{
 "cells": [
  {
   "cell_type": "markdown",
   "metadata": {},
   "source": [
    "### ex4_scientific2\n",
    "\n",
    "## Nội dung bài\n",
    "Hiển thị 2 đồ thị sin(x), cos(x) trong khoảng $x \\in \\left[-\\pi, \\pi\\right]$\n",
    "\n",
    "## Bài làm\n",
    "\n",
    "### Import thư viện\n",
    "\n",
    "```python\n",
    "import numpy as np\n",
    "import matplotlib.pyplot as plt\n",
    "```\n",
    "\n",
    "### Sinh dữ liệu hàm số\n",
    "\n",
    "```python\n",
    "X = np.linspace(-np.pi, np.pi, 256, endpoint=True) # generate x in [-pi, pi]\n",
    "C, S = np.cos(X), np.sin(X)\n",
    "```\n",
    "\n",
    "```python\n",
    "print(f'+ X: |X|={len(X)}, x in [{np.min(X):.2f}, {np.max(X):.2f}], 10 samples: {X[0:10]}')\n",
    "print(f'+ Cos(X): |C|={len(C)}, C in [{np.min(C):.2f}, {np.max(C):.2f}], 10 samples: {C[0:10]}')\n",
    "print(f'+ Sin(X): |S|={len(S)}, S in [{np.min(S):.2f}, {np.max(S):.2f}], 10 samples: {S[0:10]}')\n",
    "```\n",
    "\n",
    "### Hiển thị đồ thị\n",
    "\n",
    "```python\n",
    "# visualize data\n",
    "plt.plot(X, C, color=\"blue\", linewidth=2.5, linestyle=\"-\");\n",
    "plt.plot(X, S, color=\"red\", linewidth=2.5, linestyle=\"-\");\n",
    "\n",
    "# limit on x axis\n",
    "plt.xlim(X.min() * 1.1, X.max() * 1.1);\n",
    "plt.xticks([-np.pi, -np.pi / 2, 0, np.pi / 2, np.pi],\n",
    "           [r'$-\\pi$', r'$-\\pi/2$', r'$0$', r'$+\\pi/2$', r'$+\\pi$']);\n",
    "\n",
    "# limit on y axis\n",
    "plt.ylim(C.min() * 1.1, C.max() * 1.1);\n",
    "plt.yticks([-1, 0, +1], [r'$-1$', r'$0$', r'$+1$']);\n",
    "\n",
    "plt.show()\n",
    "```\n",
    "\n",
    "## Kết thúc\n"
   ]
  }
 ],
 "metadata": {
  "kernelspec": {
   "display_name": "Python 3",
   "language": "python",
   "name": "python3"
  },
  "language_info": {
   "codemirror_mode": {
    "name": "ipython",
    "version": 3
   },
   "file_extension": ".py",
   "mimetype": "text/x-python",
   "name": "python",
   "nbconvert_exporter": "python",
   "pygments_lexer": "ipython3",
   "version": "3.12.8"
  }
 },
 "nbformat": 4,
 "nbformat_minor": 2
}
