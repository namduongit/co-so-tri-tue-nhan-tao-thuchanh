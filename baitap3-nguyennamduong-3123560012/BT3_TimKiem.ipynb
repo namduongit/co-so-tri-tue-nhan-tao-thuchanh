{
 "cells": [
  {
   "cell_type": "markdown",
   "id": "0cfa247f-bf3f-4910-90dc-ae8ecb607964",
   "metadata": {},
   "source": [
    "# Buổi 4: Tìm kiếm trong không gian trạng thái"
   ]
  },
  {
   "cell_type": "markdown",
   "id": "48ace7ff-b7d1-4cf2-94da-a21d2d821112",
   "metadata": {},
   "source": [
    "### Bài 1. Biễu diễn đồ thị\n",
    "\n",
    "Cho đồ thị hàm số **G** (**V**, **E**) như bên dưới:\n",
    "\n",
    "![image](dothi.png)"
   ]
  },
  {
   "cell_type": "markdown",
   "id": "51164f9d-5d98-4361-b2c2-1fb23fd3704c",
   "metadata": {},
   "source": [
    "#### 1. Biễu diễn bằng danh sách / ma trận kề"
   ]
  },
  {
   "cell_type": "code",
   "execution_count": 1,
   "id": "8715cbf5-d144-479d-9bb3-eb0be736fa12",
   "metadata": {},
   "outputs": [],
   "source": [
    "\"\"\" CÁC BẠN LÀM BÀI Ở ĐÂY \"\"\"\n",
    "# ..."
   ]
  },
  {
   "cell_type": "code",
   "execution_count": 1,
   "id": "44f952fc-0188-4215-823b-6efb1ba5622a",
   "metadata": {},
   "outputs": [
    {
     "name": "stdout",
     "output_type": "stream",
     "text": [
      "{'A': {'F', 'C', 'E', 'D'},\n",
      " 'B': set(),\n",
      " 'C': {'H'},\n",
      " 'D': {'E', 'H'},\n",
      " 'E': {'K', 'H'},\n",
      " 'F': {'I', 'G'},\n",
      " 'G': {'K'},\n",
      " 'H': set(),\n",
      " 'I': {'K'},\n",
      " 'K': {'B'}}\n"
     ]
    }
   ],
   "source": [
    "import pprint\n",
    "\n",
    "ADJ = {\n",
    "    'A': {'C', 'E', 'D', 'F'},\n",
    "    'B': set(),\n",
    "    'C': {'H'},\n",
    "    'D': {'H', 'E'},\n",
    "    'E': {'K', 'H'},\n",
    "    'F': {'I', 'G'},\n",
    "    'G': {'K'},\n",
    "    'H': set(),\n",
    "    'I': {'K'},\n",
    "    'K': {'B'}\n",
    "}\n",
    "\n",
    "pprint.pprint(ADJ)"
   ]
  },
  {
   "cell_type": "markdown",
   "id": "c975f35c-f742-4ac2-be01-1fe53c94eadf",
   "metadata": {},
   "source": [
    "#### 2. Thao tác duyệt đồ thị\n",
    "(a) Liệt kê các đỉnh trong đồ thị <br/>\n",
    "(b) Liệt kê tất cả các cạnh đồ thị hiển thị dạng danh sách kề <br/>\n",
    "(c) Cho hai đỉnh A, B. Hỏi hai đỉnh A, B có kề nhau không? <br/>\n",
    "(d) Cho một đỉnh A. Hỏi danh sách các đỉnh kề với A <br/>"
   ]
  },
  {
   "cell_type": "code",
   "execution_count": 2,
   "id": "d286c1a6-ef93-4581-9f7e-96ea10020985",
   "metadata": {},
   "outputs": [
    {
     "name": "stdout",
     "output_type": "stream",
     "text": [
      "2. Thao tác duyệt đồ thị\n"
     ]
    }
   ],
   "source": [
    "print(\"2. Thao tác duyệt đồ thị\")"
   ]
  },
  {
   "cell_type": "code",
   "execution_count": 3,
   "id": "5faa6543-247a-4903-ba2a-9c1595af4f41",
   "metadata": {},
   "outputs": [
    {
     "name": "stdout",
     "output_type": "stream",
     "text": [
      "(a) Liệt kê các đỉnh trong đồ thị\n",
      "Các đỉnh của đồ thị:  "
     ]
    },
    {
     "data": {
      "text/plain": [
       "' CÁC BẠN LÀM BÀI Ở ĐÂY '"
      ]
     },
     "execution_count": 3,
     "metadata": {},
     "output_type": "execute_result"
    }
   ],
   "source": [
    "print(\"(a) Liệt kê các đỉnh trong đồ thị\")\n",
    "print(\"Các đỉnh của đồ thị: \", end = \" \")\n",
    "\"\"\" CÁC BẠN LÀM BÀI Ở ĐÂY \"\"\"\n",
    "# ..."
   ]
  },
  {
   "cell_type": "code",
   "execution_count": 5,
   "id": "3df2151a-a327-4672-a7af-519084f4b044",
   "metadata": {},
   "outputs": [
    {
     "name": "stdout",
     "output_type": "stream",
     "text": [
      "(b) Liệt kê tất cả các cạnh đồ thị hiển thị dạng danh sách kề\n",
      "Danh sách kề của đồ thị: \n",
      "+ Đỉnh A: F, C, E, D, \n",
      "+ Đỉnh B: \n",
      "+ Đỉnh C: H, \n",
      "+ Đỉnh D: E, H, \n",
      "+ Đỉnh E: K, H, \n",
      "+ Đỉnh F: I, G, \n",
      "+ Đỉnh G: K, \n",
      "+ Đỉnh H: \n",
      "+ Đỉnh I: K, \n",
      "+ Đỉnh K: B, \n"
     ]
    }
   ],
   "source": [
    "print(\"(b) Liệt kê tất cả các cạnh đồ thị hiển thị dạng danh sách kề\")\n",
    "print(\"Danh sách kề của đồ thị: \")\n",
    "\n",
    "def HienThiDoThi(G):\n",
    "    \"\"\" CÁC BẠN LÀM BÀI Ở ĐÂY \"\"\"\n",
    "    # ...\n",
    "    for i in G:\n",
    "        print(f'+ Đỉnh {i}: ', end='')\n",
    "        for j in G[i]:\n",
    "            print(j, end=', ')\n",
    "        print()\n",
    "\n",
    "    pass\n",
    "\n",
    "HienThiDoThi(ADJ)"
   ]
  },
  {
   "cell_type": "code",
   "execution_count": 8,
   "id": "4077c30a-c7be-4a44-93de-9ed446a6a368",
   "metadata": {},
   "outputs": [
    {
     "name": "stdout",
     "output_type": "stream",
     "text": [
      "(c) Cho hai đỉnh A, B. Hỏi hai đỉnh A, B có kề nhau không?\n"
     ]
    }
   ],
   "source": [
    "print(\"(c) Cho hai đỉnh A, B. Hỏi hai đỉnh A, B có kề nhau không?\")\n",
    "\n",
    "def LaKe(G, a, b):\n",
    "    \"\"\"\n",
    "    input: G, a, b\n",
    "    return:\n",
    "    + -1: dinh a, hay b khong ton tai\n",
    "    +  0: dinh a, b ton tai va a khong ke b\n",
    "    +  1: dinh a, b ton tai va a, b ke nhau\n",
    "    \"\"\"\n",
    "    \"\"\" CÁC BẠN LÀM BÀI Ở ĐÂY \"\"\"\n",
    "    if a not in G or b not in G:  # Kiểm tra nếu một trong hai đỉnh không tồn tại\n",
    "        return -1\n",
    "    if b in G[a]:  # Kiểm tra nếu b có trong danh sách kề của a\n",
    "        return 1\n",
    "    return 0  # Nếu không kề nhau\n",
    "    # ...\n"
   ]
  },
  {
   "cell_type": "code",
   "execution_count": 9,
   "id": "0e90a761-8354-460a-a451-1cbb97b9b6b8",
   "metadata": {},
   "outputs": [
    {
     "name": "stdout",
     "output_type": "stream",
     "text": [
      "L ke R: -1\n",
      "A ke R: -1\n",
      "E ke D: 0\n",
      "D ke E: 1\n"
     ]
    }
   ],
   "source": [
    "a = \"L\"; b = \"R\"; print(f\"{a} ke {b}: {LaKe(ADJ, a, b)}\")\n",
    "a = \"A\"; b = \"R\"; print(f\"{a} ke {b}: {LaKe(ADJ, a, b)}\")\n",
    "a = \"E\"; b = \"D\"; print(f\"{a} ke {b}: {LaKe(ADJ, a, b)}\")\n",
    "a = \"D\"; b = \"E\"; print(f\"{a} ke {b}: {LaKe(ADJ, a, b)}\")"
   ]
  },
  {
   "cell_type": "code",
   "execution_count": 10,
   "id": "41048b4b-9311-470f-9c0f-2bcb5b062587",
   "metadata": {},
   "outputs": [
    {
     "name": "stdout",
     "output_type": "stream",
     "text": [
      "(d) Cho một đỉnh A. Hỏi danh sách các đỉnh kề với A\n",
      "Danh sach ke voi dinh P: None\n",
      "Danh sach ke voi dinh A: ['F', 'C', 'E', 'D']\n",
      "Danh sach ke voi dinh B: []\n",
      "Danh sach ke voi dinh D: ['E', 'H']\n"
     ]
    }
   ],
   "source": [
    "print(\"(d) Cho một đỉnh A. Hỏi danh sách các đỉnh kề với A\")\n",
    "\n",
    "def LayKe(G, a):\n",
    "    \"\"\"\n",
    "    input: G, a\n",
    "    return:\n",
    "    + None: neu a khong ton tai\n",
    "    + []  : a khong ke voi bat ky dinh nao\n",
    "    + [x, y, ...]: mang cac dinh ke voi a\n",
    "    \"\"\"\n",
    "\n",
    "    \"\"\" CÁC BẠN LÀM BÀI Ở ĐÂY \"\"\"\n",
    "    if a not in G:  # Kiểm tra nếu đỉnh không tồn tại\n",
    "        return None\n",
    "    return list(G[a])  # Trả về danh sách các đỉnh kề (chuyển từ set sang list)\n",
    "\n",
    "    # ...\n",
    "\n",
    "    return result\n",
    "\n",
    "a = \"P\"; print(f\"Danh sach ke voi dinh {a}: {LayKe(ADJ, a)}\")\n",
    "a = \"A\"; print(f\"Danh sach ke voi dinh {a}: {LayKe(ADJ, a)}\")\n",
    "a = \"B\"; print(f\"Danh sach ke voi dinh {a}: {LayKe(ADJ, a)}\")\n",
    "a = \"D\"; print(f\"Danh sach ke voi dinh {a}: {LayKe(ADJ, a)}\")"
   ]
  },
  {
   "cell_type": "markdown",
   "id": "465a8fdb-f10f-47a9-91ab-1b23598fda4f",
   "metadata": {},
   "source": [
    "#### 3. Đọc và lưu đồ thị\n",
    "**dske.txt**\n",
    "```\n",
    "10           # số đỉnh đồ thị\n",
    "A C E F D    # đỉnh A kề với C E F D\n",
    "B            # đỉnh B không kề với ai\n",
    "C H\n",
    "D E H\n",
    "E K I\n",
    "F I G\n",
    "G\n",
    "H K\n",
    "I K B\n",
    "K B\n",
    "```"
   ]
  },
  {
   "cell_type": "code",
   "execution_count": 1,
   "id": "a71b385f-d571-4d94-88f1-427527c23653",
   "metadata": {},
   "outputs": [
    {
     "name": "stdout",
     "output_type": "stream",
     "text": [
      "1. Lưu đồ thị xuống tập tin\n"
     ]
    },
    {
     "ename": "NameError",
     "evalue": "name 'ADJ' is not defined",
     "output_type": "error",
     "traceback": [
      "\u001b[31m---------------------------------------------------------------------------\u001b[39m",
      "\u001b[31mNameError\u001b[39m                                 Traceback (most recent call last)",
      "\u001b[36mCell\u001b[39m\u001b[36m \u001b[39m\u001b[32mIn[1]\u001b[39m\u001b[32m, line 24\u001b[39m\n\u001b[32m     21\u001b[39m         \u001b[38;5;28;01mif\u001b[39;00m verbose:\n\u001b[32m     22\u001b[39m             \u001b[38;5;28mprint\u001b[39m(\u001b[33mf\u001b[39m\u001b[33m\"\u001b[39m\u001b[33mLưu đồ thị thành công xuống tập tin: \u001b[39m\u001b[38;5;132;01m{\u001b[39;00mfile_path\u001b[38;5;132;01m}\u001b[39;00m\u001b[33m\"\u001b[39m)\n\u001b[32m---> \u001b[39m\u001b[32m24\u001b[39m LuuDoThi(\u001b[43mADJ\u001b[49m, \u001b[33m\"\u001b[39m\u001b[33mdske1.txt\u001b[39m\u001b[33m\"\u001b[39m, verbose = \u001b[38;5;28;01mTrue\u001b[39;00m)\n\u001b[32m     25\u001b[39m \u001b[38;5;28;01mwith\u001b[39;00m \u001b[38;5;28mopen\u001b[39m(\u001b[33m\"\u001b[39m\u001b[33mdske1.txt\u001b[39m\u001b[33m\"\u001b[39m, \u001b[33m\"\u001b[39m\u001b[33mrt\u001b[39m\u001b[33m\"\u001b[39m) \u001b[38;5;28;01mas\u001b[39;00m file:\n\u001b[32m     26\u001b[39m     lines = file.readlines()\n",
      "\u001b[31mNameError\u001b[39m: name 'ADJ' is not defined"
     ]
    }
   ],
   "source": [
    "print(\"1. Lưu đồ thị xuống tập tin\")\n",
    "\n",
    "def LuuDoThi(G, file_path, verbose = True):\n",
    "    import os\n",
    "\n",
    "    \"\"\" CÁC BẠN LÀM BÀI Ở ĐÂY \"\"\"\n",
    "\n",
    "    # Tạo thư mục chứa file nếu chưa tồn tại\n",
    "    file_dir = os.path.dirname(file_path)\n",
    "    if file_dir != \"\" and not os.path.exists(file_dir):\n",
    "        os.makedirs(file_dir)\n",
    "        if verbose:\n",
    "            print(f\"+ Tạo thư mục: {file_dir}\")\n",
    "\n",
    "    # Ghi đồ thị vào file\n",
    "    with open(file_path, \"wt\") as file:\n",
    "        for node in G:\n",
    "            neighbors = \" \".join(G[node])  # Chuyển danh sách thành chuỗi\n",
    "            file.write(f\"{node}: {neighbors}\\n\")  # Ghi vào file\n",
    "\n",
    "        if verbose:\n",
    "            print(f\"Lưu đồ thị thành công xuống tập tin: {file_path}\")\n",
    "\n",
    "LuuDoThi(ADJ, \"dske1.txt\", verbose = True)\n",
    "with open(\"dske1.txt\", \"rt\") as file:\n",
    "    lines = file.readlines()\n",
    "    for line in lines: print(line, end=\"\")"
   ]
  },
  {
   "cell_type": "code",
   "execution_count": null,
   "id": "b30921dc-fb94-44a5-907f-0d66340757a0",
   "metadata": {},
   "outputs": [
    {
     "name": "stdout",
     "output_type": "stream",
     "text": [
      "2. Đọc đồ thị từ tập tin\n",
      "{'A': {'C', 'E', 'D', 'F'},\n",
      " 'B': set(),\n",
      " 'C': {'H'},\n",
      " 'D': {'H', 'E'},\n",
      " 'E': {'K', 'I'},\n",
      " 'F': {'G', 'I'},\n",
      " 'G': set(),\n",
      " 'H': {'K'},\n",
      " 'I': {'B', 'K'},\n",
      " 'K': {'B'}}\n"
     ]
    }
   ],
   "source": [
    "print(\"2. Đọc đồ thị từ tập tin\")\n",
    "import pprint\n",
    "\n",
    "def DocDoThi(file_path, verbose = True):\n",
    "    \"\"\"\n",
    "    return:\n",
    "    + None: doc that bai\n",
    "    + <>None: tra ve do thi\n",
    "    \"\"\"\n",
    "    import os\n",
    "    if not os.path.exists(file_path):  # Kiểm tra nếu file không tồn tại\n",
    "        if verbose:\n",
    "            print(f\"Lỗi: Không tìm thấy tập tin {file_path}\")\n",
    "        return None\n",
    "\n",
    "    G = {}\n",
    "    with open(file_path, \"rt\") as file:\n",
    "        for line in file:\n",
    "            parts = line.strip().split(\":\")  # Phân tách đỉnh và danh sách kề\n",
    "            if len(parts) == 2:\n",
    "                node = parts[0].strip()\n",
    "                neighbors = parts[1].strip().split()  # Lấy danh sách đỉnh kề\n",
    "                G[node] = set(neighbors)  # Dùng set để tránh trùng lặp\n",
    "\n",
    "    if verbose:\n",
    "        print(f\"Đọc đồ thị thành công từ tập tin: {file_path}\")\n",
    "\n",
    "    return G\n",
    "\n",
    "G1 = DocDoThi(\"dske1.txt\", verbose = True)\n",
    "pprint.pprint(G1)"
   ]
  },
  {
   "cell_type": "markdown",
   "id": "8197f40f-69af-489d-80b5-124c91427db6",
   "metadata": {},
   "source": [
    "### Bài 2. Tìm kiếm đường đi trên đồ thị"
   ]
  },
  {
   "cell_type": "markdown",
   "id": "43f12303-9ee9-4404-9ecb-f00a5f78e4ee",
   "metadata": {},
   "source": [
    "#### 1. Tìm kiếm theo chiều rộng (BFS)"
   ]
  },
  {
   "cell_type": "code",
   "execution_count": 2,
   "id": "1910f300-4094-4d69-b009-a9d4ea0fb27b",
   "metadata": {},
   "outputs": [],
   "source": [
    "import pprint\n",
    "\n",
    "def BFS(G, start, goal):\n",
    "    \"\"\"\n",
    "    return:\n",
    "    + mang chua duong di tu a --> b, neu rong la ko co duong di\n",
    "    + None: dinh a, b khong hop le\n",
    "    \"\"\"\n",
    "    if G.get(start) is None or G.get(goal) is None:\n",
    "        return None\n",
    "\n",
    "    path = {}  # Lưu đường đi\n",
    "    s_open = [start]\n",
    "    s_closed = []\n",
    "    path[start] = None\n",
    "\n",
    "    while len(s_open) > 0:\n",
    "        current = s_open.pop(0)\n",
    "        s_closed.append(current)\n",
    "\n",
    "        if current == goal:\n",
    "            result = []\n",
    "            while current is not None:\n",
    "                result.append(current)\n",
    "                current = path[current]\n",
    "            return result[::-1]  # Đảo ngược để có đường đi từ start -> goal\n",
    "\n",
    "        for neighbor in G[current]:\n",
    "            if neighbor not in s_closed and neighbor not in s_open:\n",
    "                s_open.append(neighbor)\n",
    "                path[neighbor] = current\n",
    "\n",
    "    return []  # Không tìm thấy đường đi\n"
   ]
  },
  {
   "cell_type": "code",
   "execution_count": 3,
   "id": "ed7e6ed1-ae75-4183-8cb2-0e4eae606144",
   "metadata": {},
   "outputs": [
    {
     "ename": "NameError",
     "evalue": "name 'ADJ' is not defined",
     "output_type": "error",
     "traceback": [
      "\u001b[31m---------------------------------------------------------------------------\u001b[39m",
      "\u001b[31mNameError\u001b[39m                                 Traceback (most recent call last)",
      "\u001b[36mCell\u001b[39m\u001b[36m \u001b[39m\u001b[32mIn[3]\u001b[39m\u001b[32m, line 1\u001b[39m\n\u001b[32m----> \u001b[39m\u001b[32m1\u001b[39m path = BFS(\u001b[43mADJ\u001b[49m, \u001b[33m\"\u001b[39m\u001b[33mA\u001b[39m\u001b[33m\"\u001b[39m, \u001b[33m\"\u001b[39m\u001b[33mB\u001b[39m\u001b[33m\"\u001b[39m)\n\u001b[32m      2\u001b[39m pprint.pprint(path)\n",
      "\u001b[31mNameError\u001b[39m: name 'ADJ' is not defined"
     ]
    }
   ],
   "source": [
    "path = BFS(ADJ, \"A\", \"B\")\n",
    "pprint.pprint(path)"
   ]
  },
  {
   "cell_type": "code",
   "execution_count": null,
   "id": "cd05574f-d2fa-4f71-80b2-1f9c5b45f945",
   "metadata": {},
   "outputs": [],
   "source": [
    "def find_path(path, start, goal):\n",
    "    \"\"\"\n",
    "    Cho mảng truy hồi đường, tìm danh sách đỉnh từ start --> goal\n",
    "    \"\"\"\n",
    "    result = []\n",
    "\n",
    "    current = goal\n",
    "    while current is not None:\n",
    "        result.append(current)\n",
    "        current = path.get(current)\n",
    "\n",
    "    return result[::-1] if result[-1] == start else []  # Đảo ngược thứ tự nếu có đường đi hợp lệ\n"
   ]
  },
  {
   "cell_type": "code",
   "execution_count": 14,
   "id": "50a093aa-283b-4623-9428-a0631e37328b",
   "metadata": {},
   "outputs": [
    {
     "data": {
      "text/plain": [
       "['A', 'E', 'K', 'B']"
      ]
     },
     "execution_count": 14,
     "metadata": {},
     "output_type": "execute_result"
    }
   ],
   "source": [
    "find_path(path, 'A', 'B')"
   ]
  },
  {
   "cell_type": "markdown",
   "id": "16085819-733d-4f95-a32d-aa52c5e35a6e",
   "metadata": {},
   "source": [
    "#### 2. Tìm kiếm theo chiều rộng (DFS)"
   ]
  },
  {
   "cell_type": "code",
   "execution_count": null,
   "id": "50ebc7cd-f093-4d06-852c-e6c903e27864",
   "metadata": {},
   "outputs": [],
   "source": [
    "import pprint\n",
    "\n",
    "def DFS(G, start, goal):\n",
    "    \"\"\"\n",
    "    return:\n",
    "    + danh sách đường đi từ start đến goal, nếu không có đường đi trả về []\n",
    "    + None: nếu start hoặc goal không hợp lệ\n",
    "    \"\"\"\n",
    "    if G.get(start) is None or G.get(goal) is None:\n",
    "        return None\n",
    "\n",
    "    path = {}  # Lưu đường đi\n",
    "    s_open = [start]\n",
    "    s_closed = []\n",
    "    path[start] = None\n",
    "\n",
    "    while len(s_open) > 0:\n",
    "        current = s_open.pop()  # Lấy phần tử cuối (stack - DFS)\n",
    "        s_closed.append(current)\n",
    "\n",
    "        if current == goal:\n",
    "            result = []\n",
    "            while current is not None:\n",
    "                result.append(current)\n",
    "                current = path[current]\n",
    "            return result[::-1]  # Đảo ngược để có đường đi từ start -> goal\n",
    "\n",
    "        for neighbor in G[current]:\n",
    "            if neighbor not in s_closed and neighbor not in s_open:\n",
    "                s_open.append(neighbor)\n",
    "                path[neighbor] = current\n",
    "\n",
    "    return []  # Không tìm thấy đường đi"
   ]
  },
  {
   "cell_type": "code",
   "execution_count": 16,
   "id": "8177518a-8ffc-4a29-be9c-90375367793a",
   "metadata": {},
   "outputs": [
    {
     "name": "stdout",
     "output_type": "stream",
     "text": [
      "{'A': None,\n",
      " 'B': 'I',\n",
      " 'C': 'A',\n",
      " 'D': 'A',\n",
      " 'E': 'A',\n",
      " 'F': 'A',\n",
      " 'G': 'F',\n",
      " 'H': 'D',\n",
      " 'I': 'F',\n",
      " 'K': 'I'}\n"
     ]
    }
   ],
   "source": [
    "path = DFS(ADJ, \"A\", \"B\")\n",
    "pprint.pprint(path)"
   ]
  },
  {
   "cell_type": "markdown",
   "id": "d037e84a-1f8c-4388-89f6-9b1e105140da",
   "metadata": {},
   "source": [
    "# Kết thúc"
   ]
  }
 ],
 "metadata": {
  "kernelspec": {
   "display_name": "Python 3",
   "language": "python",
   "name": "python3"
  },
  "language_info": {
   "codemirror_mode": {
    "name": "ipython",
    "version": 3
   },
   "file_extension": ".py",
   "mimetype": "text/x-python",
   "name": "python",
   "nbconvert_exporter": "python",
   "pygments_lexer": "ipython3",
   "version": "3.13.1"
  }
 },
 "nbformat": 4,
 "nbformat_minor": 5
}
